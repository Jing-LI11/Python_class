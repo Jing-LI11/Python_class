{
  "nbformat": 4,
  "nbformat_minor": 0,
  "metadata": {
    "colab": {
      "provenance": [],
      "authorship_tag": "ABX9TyO/7kaEd62JC8MItTfF/Bo2",
      "include_colab_link": true
    },
    "kernelspec": {
      "name": "python3",
      "display_name": "Python 3"
    },
    "language_info": {
      "name": "python"
    }
  },
  "cells": [
    {
      "cell_type": "markdown",
      "metadata": {
        "id": "view-in-github",
        "colab_type": "text"
      },
      "source": [
        "<a href=\"https://colab.research.google.com/github/Jing-LI11/Python_class/blob/main/Untitled0.ipynb\" target=\"_parent\"><img src=\"https://colab.research.google.com/assets/colab-badge.svg\" alt=\"Open In Colab\"/></a>"
      ]
    },
    {
      "cell_type": "markdown",
      "source": [
        "#Basis python programming\n",
        "####Demonstrate the use of variables, lists, dictionaries, loops, and conditional statements.\n",
        "####Write at least one reusable function that performs a task relevant to your analysis."
      ],
      "metadata": {
        "id": "9n2JuNP3znhH"
      }
    },
    {
      "cell_type": "markdown",
      "source": [
        "#import dataset"
      ],
      "metadata": {
        "id": "ja6_FXuuSVen"
      }
    },
    {
      "cell_type": "markdown",
      "source": [
        "##find dataset from google drive"
      ],
      "metadata": {
        "id": "-byZgsLtSmWj"
      }
    },
    {
      "cell_type": "code",
      "source": [
        "import pandas as pd\n",
        "!pip list\n",
        "\n",
        "try:\n",
        "  import janitor\n",
        "except:\n",
        "  print(\"Module is not preinstalled!Installing now...\")\n",
        "  !pip install pyjanitor --quiet\n",
        "\n",
        "import janitor\n",
        "from google.colab import drive\n",
        "drive.mount('/content/drive')\n",
        "import os\n",
        "print(os.listdir('/content/drive/My Drive'))"
      ],
      "metadata": {
        "id": "vQ0uFjDE2Si3"
      },
      "execution_count": null,
      "outputs": []
    },
    {
      "cell_type": "markdown",
      "source": [
        "##import and check dataset"
      ],
      "metadata": {
        "id": "sJyE1v8ySeD0"
      }
    },
    {
      "cell_type": "code",
      "source": [
        "feature = pd.read_csv('/content/drive/My Drive/Features.csv')\n",
        "feature.head()\n",
        "sales = pd.read_csv('/content/drive/My Drive/sales.csv')\n",
        "sales.head()\n",
        "\n",
        "unique_features = feature[[]].drop_duplicates().shape[0]\n",
        "print(f\"unique data in Features are {unique_features} rows\")\n",
        "unique_sales = sales[[]].drop_duplicates().shape[0]\n",
        "print(f\"unique data in Sales are {unique_sales} rows\")\n",
        "\n",
        "sales_agg = sales.groupby(['Store', 'Date'], as_index=False)['Weekly_Sales'].sum()\n",
        "print(sales_agg.head())\n",
        "feature = pd.merge(feature, sales_agg, on=['Store', 'Date'], how='left')\n",
        "print(feature.head())\n",
        "print(f\"left-join data has：{feature.shape[0]} rows\")\n",
        "\n",
        "feature.to_csv('/content/drive/My Drive/featuresales.csv', index=False)"
      ],
      "metadata": {
        "colab": {
          "base_uri": "https://localhost:8080/"
        },
        "id": "ShHIq5Im4Rib",
        "outputId": "3f25879d-d9f4-4b55-a770-76245ed1c301"
      },
      "execution_count": null,
      "outputs": [
        {
          "output_type": "stream",
          "name": "stderr",
          "text": [
            "/usr/local/lib/python3.11/dist-packages/ipykernel/ipkernel.py:283: DeprecationWarning: `should_run_async` will not call `transform_cell` automatically in the future. Please pass the result to `transformed_cell` argument and any exception that happen during thetransform in `preprocessing_exc_tuple` in IPython 7.17 and above.\n",
            "  and should_run_async(code)\n"
          ]
        },
        {
          "output_type": "stream",
          "name": "stdout",
          "text": [
            "unique data in Features are 8190 rows\n",
            "unique data in Sales are 421570 rows\n",
            "   Store        Date  Weekly_Sales\n",
            "0      1  01/04/2011    1495064.75\n",
            "1      1  01/06/2012    1624477.58\n",
            "2      1  01/07/2011    1488538.09\n",
            "3      1  01/10/2010    1453329.50\n",
            "4      1  02/03/2012    1688420.76\n",
            "   Store        Date  Temperature  Fuel_Price  MarkDown1  MarkDown2  \\\n",
            "0      1  05/02/2010        42.31       2.572        NaN        NaN   \n",
            "1      1  12/02/2010        38.51       2.548        NaN        NaN   \n",
            "2      1  19/02/2010        39.93       2.514        NaN        NaN   \n",
            "3      1  26/02/2010        46.63       2.561        NaN        NaN   \n",
            "4      1  05/03/2010        46.50       2.625        NaN        NaN   \n",
            "\n",
            "   MarkDown3  MarkDown4  MarkDown5         CPI  Unemployment  IsHoliday  \\\n",
            "0        NaN        NaN        NaN  211.096358         8.106      False   \n",
            "1        NaN        NaN        NaN  211.242170         8.106       True   \n",
            "2        NaN        NaN        NaN  211.289143         8.106      False   \n",
            "3        NaN        NaN        NaN  211.319643         8.106      False   \n",
            "4        NaN        NaN        NaN  211.350143         8.106      False   \n",
            "\n",
            "   Weekly_Sales  \n",
            "0    1643690.90  \n",
            "1    1641957.44  \n",
            "2    1611968.17  \n",
            "3    1409727.59  \n",
            "4    1554806.68  \n",
            "left-join data has：8190 rows\n"
          ]
        }
      ]
    },
    {
      "cell_type": "markdown",
      "source": [
        "##Demonstrate the use of variables, lists, dictionaries, loops, and conditional statements.\n",
        "##Write at least one reusable function that performs a task relevant to your analysis."
      ],
      "metadata": {
        "id": "4_eUrGkO3G0M"
      }
    },
    {
      "cell_type": "markdown",
      "source": [
        "###variables"
      ],
      "metadata": {
        "id": "PAHrpHdC-hI5"
      }
    },
    {
      "cell_type": "code",
      "source": [
        "total_rows = feature.shape[0]\n",
        "total_columns = feature.shape[1]\n",
        "column_names = feature.columns.tolist()\n",
        "print(f\"dataset {total_rows} rows {total_columns} columns\")\n",
        "print(f\"column name as below：{column_names}\")"
      ],
      "metadata": {
        "colab": {
          "base_uri": "https://localhost:8080/"
        },
        "id": "ArR_0hJc3U9b",
        "outputId": "f8520d4b-331f-45fc-9857-0e1c2d618131"
      },
      "execution_count": null,
      "outputs": [
        {
          "output_type": "stream",
          "name": "stdout",
          "text": [
            "dataset 8190 rows 12 columns\n",
            "column name as below：['Store', 'Date', 'Temperature', 'Fuel_Price', 'MarkDown1', 'MarkDown2', 'MarkDown3', 'MarkDown4', 'MarkDown5', 'CPI', 'Unemployment', 'IsHoliday']\n",
            "all MarkDown list：['MarkDown1', 'MarkDown2', 'MarkDown3', 'MarkDown4', 'MarkDown5']\n"
          ]
        },
        {
          "output_type": "stream",
          "name": "stderr",
          "text": [
            "/usr/local/lib/python3.11/dist-packages/ipykernel/ipkernel.py:283: DeprecationWarning: `should_run_async` will not call `transform_cell` automatically in the future. Please pass the result to `transformed_cell` argument and any exception that happen during thetransform in `preprocessing_exc_tuple` in IPython 7.17 and above.\n",
            "  and should_run_async(code)\n"
          ]
        }
      ]
    },
    {
      "cell_type": "markdown",
      "source": [
        "###lists"
      ],
      "metadata": {
        "id": "3JGYJRlI-jjl"
      }
    },
    {
      "cell_type": "code",
      "source": [
        "markdown_columns = ['MarkDown1', 'MarkDown2', 'MarkDown3', 'MarkDown4', 'MarkDown5']\n",
        "print(f\"all MarkDown list：{markdown_columns}\")\n",
        "\n",
        "list=(1,2,3,4,2)\n",
        "print(list[0:4])\n",
        "ListUnique=set(list)\n",
        "len(ListUnique)\n",
        "matrix=[list,ListUnique]\n",
        "matrix"
      ],
      "metadata": {
        "id": "twNbGwHy-vk3"
      },
      "execution_count": null,
      "outputs": []
    },
    {
      "cell_type": "markdown",
      "source": [
        "###dictionaries"
      ],
      "metadata": {
        "id": "t7KkIvaK-ku0"
      }
    },
    {
      "cell_type": "code",
      "source": [
        "fill_strategies = {\n",
        "    'CPI': 'interpolate',\n",
        "    'Unemployment': 'interpolate',\n",
        "    'MarkDown1': 0,\n",
        "    'MarkDown2': 0,\n",
        "    'MarkDown3': 0,\n",
        "    'MarkDown4': 0,\n",
        "    'MarkDown5': 0\n",
        "}\n",
        "print(\"\\nfill strategy: \", fill_strategies)"
      ],
      "metadata": {
        "colab": {
          "base_uri": "https://localhost:8080/"
        },
        "id": "QTc5u1-v_xW3",
        "outputId": "26fa6eca-76bd-468e-f79b-fa249981add6"
      },
      "execution_count": null,
      "outputs": [
        {
          "output_type": "stream",
          "name": "stdout",
          "text": [
            "\n",
            "fill strategy:  {'CPI': 'interpolate', 'Unemployment': 'interpolate', 'MarkDown1': 0, 'MarkDown2': 0, 'MarkDown3': 0, 'MarkDown4': 0, 'MarkDown5': 0}\n"
          ]
        },
        {
          "output_type": "stream",
          "name": "stderr",
          "text": [
            "/usr/local/lib/python3.11/dist-packages/ipykernel/ipkernel.py:283: DeprecationWarning: `should_run_async` will not call `transform_cell` automatically in the future. Please pass the result to `transformed_cell` argument and any exception that happen during thetransform in `preprocessing_exc_tuple` in IPython 7.17 and above.\n",
            "  and should_run_async(code)\n"
          ]
        }
      ]
    },
    {
      "cell_type": "markdown",
      "source": [
        "###loops"
      ],
      "metadata": {
        "id": "3GiRhtGp-maI"
      }
    },
    {
      "cell_type": "code",
      "source": [
        "for column in ['CPI', 'Unemployment']:\n",
        "    feature[column] = feature[column].interpolate()\n",
        "    print(f\"missing values in {column} were filled by linear regression method\")"
      ],
      "metadata": {
        "colab": {
          "base_uri": "https://localhost:8080/"
        },
        "id": "FgO59wdkBkLe",
        "outputId": "9f8eef3e-23c3-4fd6-be0a-8d23733c34c8"
      },
      "execution_count": null,
      "outputs": [
        {
          "output_type": "stream",
          "name": "stdout",
          "text": [
            "missing values in MarkDown1 were filled by 0。\n",
            "missing values in MarkDown2 were filled by 0。\n",
            "missing values in MarkDown3 were filled by 0。\n",
            "missing values in MarkDown4 were filled by 0。\n",
            "missing values in MarkDown5 were filled by 0。\n",
            "missing values in CPI were filled by linear regression method\n",
            "missing values in Unemployment were filled by linear regression method\n"
          ]
        },
        {
          "output_type": "stream",
          "name": "stderr",
          "text": [
            "/usr/local/lib/python3.11/dist-packages/ipykernel/ipkernel.py:283: DeprecationWarning: `should_run_async` will not call `transform_cell` automatically in the future. Please pass the result to `transformed_cell` argument and any exception that happen during thetransform in `preprocessing_exc_tuple` in IPython 7.17 and above.\n",
            "  and should_run_async(code)\n",
            "<ipython-input-81-3d6ae9326b5a>:2: FutureWarning: A value is trying to be set on a copy of a DataFrame or Series through chained assignment using an inplace method.\n",
            "The behavior will change in pandas 3.0. This inplace method will never work because the intermediate object on which we are setting values always behaves as a copy.\n",
            "\n",
            "For example, when doing 'df[col].method(value, inplace=True)', try using 'df.method({col: value}, inplace=True)' or df[col] = df[col].method(value) instead, to perform the operation inplace on the original object.\n",
            "\n",
            "\n",
            "  feature[column].fillna(0, inplace=True)\n"
          ]
        }
      ]
    },
    {
      "cell_type": "markdown",
      "source": [
        "###condition statements"
      ],
      "metadata": {
        "id": "xfRHPbOG-nd2"
      }
    },
    {
      "cell_type": "code",
      "source": [
        "if feature.isnull().sum().sum() > 0:\n",
        "    print(\"missing values waiting for being handled\")\n",
        "else:\n",
        "    print(\"no missing values\")"
      ],
      "metadata": {
        "colab": {
          "base_uri": "https://localhost:8080/"
        },
        "id": "_R5oXqP3B8iF",
        "outputId": "c36232bb-6b39-45b3-8f03-85b20e02d2b6"
      },
      "execution_count": null,
      "outputs": [
        {
          "output_type": "stream",
          "name": "stdout",
          "text": [
            "missing values waiting for being handled\n"
          ]
        },
        {
          "output_type": "stream",
          "name": "stderr",
          "text": [
            "/usr/local/lib/python3.11/dist-packages/ipykernel/ipkernel.py:283: DeprecationWarning: `should_run_async` will not call `transform_cell` automatically in the future. Please pass the result to `transformed_cell` argument and any exception that happen during thetransform in `preprocessing_exc_tuple` in IPython 7.17 and above.\n",
            "  and should_run_async(code)\n"
          ]
        }
      ]
    },
    {
      "cell_type": "markdown",
      "source": [
        "##handling missing values and check duplicated values"
      ],
      "metadata": {
        "id": "UimlMaqQSyHW"
      }
    },
    {
      "cell_type": "code",
      "source": [
        "print(feature.isnull().sum())\n",
        "import matplotlib.pyplot as plt\n",
        "feature.hist(figsize=(10,10))\n",
        "plt.show()\n",
        "\n",
        "for column in markdown_columns:\n",
        "    feature[column].fillna(0, inplace=True)\n",
        "    print(f\"missing values in {column} were filled by 0。\")\n",
        "#drop missing value in weekly sales\n",
        "featurenona = feature.dropna()\n",
        "print(featurenona.isnull().sum())\n",
        "featurenona"
      ],
      "metadata": {
        "id": "Iowo26XEza6u"
      },
      "execution_count": null,
      "outputs": []
    },
    {
      "cell_type": "code",
      "source": [
        "unique_featuresales = featurenona[[]].drop_duplicates().shape[0]\n",
        "print(f\"unique data in Features are {unique_features} rows\")"
      ],
      "metadata": {
        "id": "KPpb3NsE6mgx"
      },
      "execution_count": null,
      "outputs": []
    },
    {
      "cell_type": "markdown",
      "source": [
        "##transform data format (object -> date)"
      ],
      "metadata": {
        "id": "Rkwe557hTKq2"
      }
    },
    {
      "cell_type": "code",
      "source": [
        "featurenona['Date'] = pd.to_datetime(featurenona['Date'], format='%d/%m/%Y')\n",
        "featurenona.info()"
      ],
      "metadata": {
        "colab": {
          "base_uri": "https://localhost:8080/"
        },
        "id": "DTWhHICsTyfB",
        "outputId": "7c8b4c91-eb93-42ed-cd70-50c715c4e81c"
      },
      "execution_count": null,
      "outputs": [
        {
          "output_type": "stream",
          "name": "stdout",
          "text": [
            "<class 'pandas.core.frame.DataFrame'>\n",
            "RangeIndex: 8190 entries, 0 to 8189\n",
            "Data columns (total 12 columns):\n",
            " #   Column        Non-Null Count  Dtype         \n",
            "---  ------        --------------  -----         \n",
            " 0   Store         8190 non-null   int64         \n",
            " 1   Date          8190 non-null   datetime64[ns]\n",
            " 2   Temperature   8190 non-null   float64       \n",
            " 3   Fuel_Price    8190 non-null   float64       \n",
            " 4   MarkDown1     8190 non-null   float64       \n",
            " 5   MarkDown2     8190 non-null   float64       \n",
            " 6   MarkDown3     8190 non-null   float64       \n",
            " 7   MarkDown4     8190 non-null   float64       \n",
            " 8   MarkDown5     8190 non-null   float64       \n",
            " 9   CPI           7605 non-null   float64       \n",
            " 10  Unemployment  7605 non-null   float64       \n",
            " 11  IsHoliday     8190 non-null   bool          \n",
            "dtypes: bool(1), datetime64[ns](1), float64(9), int64(1)\n",
            "memory usage: 712.0 KB\n"
          ]
        },
        {
          "output_type": "stream",
          "name": "stderr",
          "text": [
            "/usr/local/lib/python3.11/dist-packages/ipykernel/ipkernel.py:283: DeprecationWarning: `should_run_async` will not call `transform_cell` automatically in the future. Please pass the result to `transformed_cell` argument and any exception that happen during thetransform in `preprocessing_exc_tuple` in IPython 7.17 and above.\n",
            "  and should_run_async(code)\n"
          ]
        }
      ]
    },
    {
      "cell_type": "markdown",
      "source": [
        "#rename a column"
      ],
      "metadata": {
        "id": "vN6Q8Q9uBRkI"
      }
    },
    {
      "cell_type": "code",
      "source": [
        "featurenona = featurenona.copy()\n",
        "featurenonac['CPI'] = featurenona['CPI'].rename(\"ConsumerPriceIndex\")"
      ],
      "metadata": {
        "colab": {
          "base_uri": "https://localhost:8080/"
        },
        "id": "2cT4_BR-AlaT",
        "outputId": "e2b15712-d11f-43f8-db28-59794963c976"
      },
      "execution_count": null,
      "outputs": [
        {
          "output_type": "stream",
          "name": "stderr",
          "text": [
            "/usr/local/lib/python3.11/dist-packages/ipykernel/ipkernel.py:283: DeprecationWarning: `should_run_async` will not call `transform_cell` automatically in the future. Please pass the result to `transformed_cell` argument and any exception that happen during thetransform in `preprocessing_exc_tuple` in IPython 7.17 and above.\n",
            "  and should_run_async(code)\n"
          ]
        }
      ]
    }
  ]
}