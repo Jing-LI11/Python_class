{
  "nbformat": 4,
  "nbformat_minor": 0,
  "metadata": {
    "colab": {
      "provenance": [],
      "authorship_tag": "ABX9TyOW46NOrJOhPR8qOYtDtZL3",
      "include_colab_link": true
    },
    "kernelspec": {
      "name": "python3",
      "display_name": "Python 3"
    },
    "language_info": {
      "name": "python"
    }
  },
  "cells": [
    {
      "cell_type": "markdown",
      "metadata": {
        "id": "view-in-github",
        "colab_type": "text"
      },
      "source": [
        "<a href=\"https://colab.research.google.com/github/Jing-LI11/Python_class/blob/main/Untitled0.ipynb\" target=\"_parent\"><img src=\"https://colab.research.google.com/assets/colab-badge.svg\" alt=\"Open In Colab\"/></a>"
      ]
    },
    {
      "cell_type": "markdown",
      "source": [
        "#Basis python programming\n",
        "####Demonstrate the use of variables, lists, dictionaries, loops, and conditional statements.\n",
        "####Write at least one reusable function that performs a task relevant to your analysis."
      ],
      "metadata": {
        "id": "9n2JuNP3znhH"
      }
    },
    {
      "cell_type": "markdown",
      "source": [
        "#import dataset"
      ],
      "metadata": {
        "id": "ja6_FXuuSVen"
      }
    },
    {
      "cell_type": "markdown",
      "source": [
        "##find dataset from google drive"
      ],
      "metadata": {
        "id": "-byZgsLtSmWj"
      }
    },
    {
      "cell_type": "markdown",
      "source": [
        "##import and check dataset"
      ],
      "metadata": {
        "id": "sJyE1v8ySeD0"
      }
    },
    {
      "cell_type": "code",
      "source": [
        "feature = pd.read_csv('/content/drive/My Drive/Features.csv')\n",
        "feature.head()\n",
        "sales = pd.read_csv('/content/drive/My Drive/sales.csv')\n",
        "sales.head()\n",
        "\n",
        "unique_features = feature[[]].drop_duplicates().shape[0]\n",
        "print(f\"unique data in Features are {unique_features} rows\")\n",
        "unique_sales = sales[[]].drop_duplicates().shape[0]\n",
        "print(f\"unique data in Sales are {unique_sales} rows\")\n",
        "\n",
        "sales_agg = sales.groupby(['Store', 'Date'], as_index=False)['Weekly_Sales'].sum()\n",
        "print(sales_agg.head())\n",
        "feature = pd.merge(feature, sales_agg, on=['Store', 'Date'], how='left')\n",
        "print(feature.head())\n",
        "print(f\"left-join data has：{feature.shape[0]} rows\")\n",
        "\n",
        "feature.to_csv('/content/drive/My Drive/featuresales.csv', index=False)"
      ],
      "metadata": {
        "id": "ShHIq5Im4Rib"
      },
      "execution_count": null,
      "outputs": []
    },
    {
      "cell_type": "markdown",
      "source": [
        "##Demonstrate the use of variables, lists, dictionaries, loops, and conditional statements.\n",
        "##Write at least one reusable function that performs a task relevant to your analysis."
      ],
      "metadata": {
        "id": "4_eUrGkO3G0M"
      }
    },
    {
      "cell_type": "markdown",
      "source": [
        "###variables"
      ],
      "metadata": {
        "id": "PAHrpHdC-hI5"
      }
    },
    {
      "cell_type": "code",
      "source": [
        "total_rows = feature.shape[0]\n",
        "total_columns = feature.shape[1]\n",
        "column_names = feature.columns.tolist()\n",
        "print(f\"dataset {total_rows} rows {total_columns} columns\")\n",
        "print(f\"column name as below：{column_names}\")"
      ],
      "metadata": {
        "colab": {
          "base_uri": "https://localhost:8080/"
        },
        "id": "ArR_0hJc3U9b",
        "outputId": "f8520d4b-331f-45fc-9857-0e1c2d618131"
      },
      "execution_count": null,
      "outputs": [
        {
          "output_type": "stream",
          "name": "stdout",
          "text": [
            "dataset 8190 rows 12 columns\n",
            "column name as below：['Store', 'Date', 'Temperature', 'Fuel_Price', 'MarkDown1', 'MarkDown2', 'MarkDown3', 'MarkDown4', 'MarkDown5', 'CPI', 'Unemployment', 'IsHoliday']\n",
            "all MarkDown list：['MarkDown1', 'MarkDown2', 'MarkDown3', 'MarkDown4', 'MarkDown5']\n"
          ]
        },
        {
          "output_type": "stream",
          "name": "stderr",
          "text": [
            "/usr/local/lib/python3.11/dist-packages/ipykernel/ipkernel.py:283: DeprecationWarning: `should_run_async` will not call `transform_cell` automatically in the future. Please pass the result to `transformed_cell` argument and any exception that happen during thetransform in `preprocessing_exc_tuple` in IPython 7.17 and above.\n",
            "  and should_run_async(code)\n"
          ]
        }
      ]
    },
    {
      "cell_type": "markdown",
      "source": [
        "###lists"
      ],
      "metadata": {
        "id": "3JGYJRlI-jjl"
      }
    },
    {
      "cell_type": "code",
      "source": [
        "markdown_columns = ['MarkDown1', 'MarkDown2', 'MarkDown3', 'MarkDown4', 'MarkDown5']\n",
        "print(f\"all MarkDown list：{markdown_columns}\")\n",
        "\n",
        "list=(1,2,3,4,2)\n",
        "print(list[0:4])\n",
        "ListUnique=set(list)\n",
        "len(ListUnique)\n",
        "matrix=[list,ListUnique]\n",
        "matrix"
      ],
      "metadata": {
        "id": "twNbGwHy-vk3",
        "outputId": "b3627c5d-6e1d-45e9-8a71-e69935977e33",
        "colab": {
          "base_uri": "https://localhost:8080/"
        }
      },
      "execution_count": 5,
      "outputs": [
        {
          "output_type": "stream",
          "name": "stdout",
          "text": [
            "all MarkDown list：['MarkDown1', 'MarkDown2', 'MarkDown3', 'MarkDown4', 'MarkDown5']\n",
            "(1, 2, 3, 4)\n"
          ]
        },
        {
          "output_type": "stream",
          "name": "stderr",
          "text": [
            "/usr/local/lib/python3.11/dist-packages/ipykernel/ipkernel.py:283: DeprecationWarning: `should_run_async` will not call `transform_cell` automatically in the future. Please pass the result to `transformed_cell` argument and any exception that happen during thetransform in `preprocessing_exc_tuple` in IPython 7.17 and above.\n",
            "  and should_run_async(code)\n"
          ]
        },
        {
          "output_type": "execute_result",
          "data": {
            "text/plain": [
              "[(1, 2, 3, 4, 2), {1, 2, 3, 4}]"
            ]
          },
          "metadata": {},
          "execution_count": 5
        }
      ]
    },
    {
      "cell_type": "markdown",
      "source": [
        "###dictionaries"
      ],
      "metadata": {
        "id": "t7KkIvaK-ku0"
      }
    },
    {
      "cell_type": "code",
      "source": [
        "fill_strategies = {\n",
        "    'CPI': 'interpolate',\n",
        "    'Unemployment': 'interpolate',\n",
        "    'MarkDown1': 0,\n",
        "    'MarkDown2': 0,\n",
        "    'MarkDown3': 0,\n",
        "    'MarkDown4': 0,\n",
        "    'MarkDown5': 0\n",
        "}\n",
        "print(\"\\nfill strategy: \", fill_strategies)"
      ],
      "metadata": {
        "colab": {
          "base_uri": "https://localhost:8080/"
        },
        "id": "QTc5u1-v_xW3",
        "outputId": "26fa6eca-76bd-468e-f79b-fa249981add6"
      },
      "execution_count": null,
      "outputs": [
        {
          "output_type": "stream",
          "name": "stdout",
          "text": [
            "\n",
            "fill strategy:  {'CPI': 'interpolate', 'Unemployment': 'interpolate', 'MarkDown1': 0, 'MarkDown2': 0, 'MarkDown3': 0, 'MarkDown4': 0, 'MarkDown5': 0}\n"
          ]
        },
        {
          "output_type": "stream",
          "name": "stderr",
          "text": [
            "/usr/local/lib/python3.11/dist-packages/ipykernel/ipkernel.py:283: DeprecationWarning: `should_run_async` will not call `transform_cell` automatically in the future. Please pass the result to `transformed_cell` argument and any exception that happen during thetransform in `preprocessing_exc_tuple` in IPython 7.17 and above.\n",
            "  and should_run_async(code)\n"
          ]
        }
      ]
    },
    {
      "cell_type": "markdown",
      "source": [
        "###loops"
      ],
      "metadata": {
        "id": "3GiRhtGp-maI"
      }
    },
    {
      "cell_type": "code",
      "source": [
        "for column in ['CPI', 'Unemployment']:\n",
        "    feature[column] = feature[column].interpolate()\n",
        "    print(f\"missing values in {column} were filled by linear regression method\")"
      ],
      "metadata": {
        "colab": {
          "base_uri": "https://localhost:8080/"
        },
        "id": "FgO59wdkBkLe",
        "outputId": "5c4eeb9c-b39b-46f7-aa0e-c60a19e9e4bc"
      },
      "execution_count": 3,
      "outputs": [
        {
          "output_type": "stream",
          "name": "stdout",
          "text": [
            "missing values in CPI were filled by linear regression method\n",
            "missing values in Unemployment were filled by linear regression method\n"
          ]
        },
        {
          "output_type": "stream",
          "name": "stderr",
          "text": [
            "/usr/local/lib/python3.11/dist-packages/ipykernel/ipkernel.py:283: DeprecationWarning: `should_run_async` will not call `transform_cell` automatically in the future. Please pass the result to `transformed_cell` argument and any exception that happen during thetransform in `preprocessing_exc_tuple` in IPython 7.17 and above.\n",
            "  and should_run_async(code)\n"
          ]
        }
      ]
    },
    {
      "cell_type": "markdown",
      "source": [
        "###condition statements"
      ],
      "metadata": {
        "id": "xfRHPbOG-nd2"
      }
    },
    {
      "cell_type": "code",
      "source": [
        "if feature.isnull().sum().sum() > 0:\n",
        "    print(\"missing values waiting for being handled\")\n",
        "else:\n",
        "    print(\"no missing values\")"
      ],
      "metadata": {
        "colab": {
          "base_uri": "https://localhost:8080/"
        },
        "id": "_R5oXqP3B8iF",
        "outputId": "c36232bb-6b39-45b3-8f03-85b20e02d2b6"
      },
      "execution_count": null,
      "outputs": [
        {
          "output_type": "stream",
          "name": "stdout",
          "text": [
            "missing values waiting for being handled\n"
          ]
        },
        {
          "output_type": "stream",
          "name": "stderr",
          "text": [
            "/usr/local/lib/python3.11/dist-packages/ipykernel/ipkernel.py:283: DeprecationWarning: `should_run_async` will not call `transform_cell` automatically in the future. Please pass the result to `transformed_cell` argument and any exception that happen during thetransform in `preprocessing_exc_tuple` in IPython 7.17 and above.\n",
            "  and should_run_async(code)\n"
          ]
        }
      ]
    },
    {
      "cell_type": "markdown",
      "source": [
        "##handling missing values and check duplicated values"
      ],
      "metadata": {
        "id": "UimlMaqQSyHW"
      }
    },
    {
      "cell_type": "code",
      "source": [
        "print(feature.isnull().sum())\n",
        "import matplotlib.pyplot as plt\n",
        "feature.hist(figsize=(10,10))\n",
        "plt.show()\n",
        "\n",
        "for column in markdown_columns:\n",
        "    feature[column].fillna(0, inplace=True)\n",
        "    print(f\"missing values in {column} were filled by 0。\")\n",
        "#drop missing value in weekly sales\n",
        "featurenona = feature.dropna()\n",
        "print(featurenona.isnull().sum())\n",
        "featurenona"
      ],
      "metadata": {
        "id": "Iowo26XEza6u"
      },
      "execution_count": null,
      "outputs": []
    },
    {
      "cell_type": "code",
      "source": [
        "featuresales = featurenona.drop_duplicates()\n",
        "print(f\"unique data in Features are {featuresales.shape[0]} rows\")"
      ],
      "metadata": {
        "id": "KPpb3NsE6mgx",
        "outputId": "05e9d9ae-d096-4590-c3a9-68249730229b",
        "colab": {
          "base_uri": "https://localhost:8080/"
        }
      },
      "execution_count": 12,
      "outputs": [
        {
          "output_type": "stream",
          "name": "stdout",
          "text": [
            "unique data in Features are 6435 rows\n"
          ]
        },
        {
          "output_type": "stream",
          "name": "stderr",
          "text": [
            "/usr/local/lib/python3.11/dist-packages/ipykernel/ipkernel.py:283: DeprecationWarning: `should_run_async` will not call `transform_cell` automatically in the future. Please pass the result to `transformed_cell` argument and any exception that happen during thetransform in `preprocessing_exc_tuple` in IPython 7.17 and above.\n",
            "  and should_run_async(code)\n"
          ]
        }
      ]
    },
    {
      "cell_type": "markdown",
      "source": [
        "##transform data format (object -> date)"
      ],
      "metadata": {
        "id": "Rkwe557hTKq2"
      }
    },
    {
      "cell_type": "code",
      "source": [
        "featuresales['Date'] = pd.to_datetime(featuresales['Date'], format='%d/%m/%Y')\n",
        "featuresales.info()"
      ],
      "metadata": {
        "colab": {
          "base_uri": "https://localhost:8080/"
        },
        "id": "DTWhHICsTyfB",
        "outputId": "f514acdb-6269-4291-e483-2e8d91709b24"
      },
      "execution_count": 13,
      "outputs": [
        {
          "output_type": "stream",
          "name": "stdout",
          "text": [
            "<class 'pandas.core.frame.DataFrame'>\n",
            "Index: 6435 entries, 0 to 8150\n",
            "Data columns (total 13 columns):\n",
            " #   Column        Non-Null Count  Dtype         \n",
            "---  ------        --------------  -----         \n",
            " 0   Store         6435 non-null   int64         \n",
            " 1   Date          6435 non-null   datetime64[ns]\n",
            " 2   Temperature   6435 non-null   float64       \n",
            " 3   Fuel_Price    6435 non-null   float64       \n",
            " 4   MarkDown1     6435 non-null   float64       \n",
            " 5   MarkDown2     6435 non-null   float64       \n",
            " 6   MarkDown3     6435 non-null   float64       \n",
            " 7   MarkDown4     6435 non-null   float64       \n",
            " 8   MarkDown5     6435 non-null   float64       \n",
            " 9   CPI           6435 non-null   float64       \n",
            " 10  Unemployment  6435 non-null   float64       \n",
            " 11  IsHoliday     6435 non-null   bool          \n",
            " 12  Weekly_Sales  6435 non-null   float64       \n",
            "dtypes: bool(1), datetime64[ns](1), float64(10), int64(1)\n",
            "memory usage: 659.8 KB\n"
          ]
        },
        {
          "output_type": "stream",
          "name": "stderr",
          "text": [
            "/usr/local/lib/python3.11/dist-packages/ipykernel/ipkernel.py:283: DeprecationWarning: `should_run_async` will not call `transform_cell` automatically in the future. Please pass the result to `transformed_cell` argument and any exception that happen during thetransform in `preprocessing_exc_tuple` in IPython 7.17 and above.\n",
            "  and should_run_async(code)\n"
          ]
        }
      ]
    },
    {
      "cell_type": "markdown",
      "source": [
        "#rename a column"
      ],
      "metadata": {
        "id": "vN6Q8Q9uBRkI"
      }
    }
  ]
}