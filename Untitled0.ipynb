{
  "nbformat": 4,
  "nbformat_minor": 0,
  "metadata": {
    "colab": {
      "provenance": [],
      "authorship_tag": "ABX9TyOVeVhUE2eHMM7b8VB4o10d",
      "include_colab_link": true
    },
    "kernelspec": {
      "name": "python3",
      "display_name": "Python 3"
    },
    "language_info": {
      "name": "python"
    }
  },
  "cells": [
    {
      "cell_type": "markdown",
      "metadata": {
        "id": "view-in-github",
        "colab_type": "text"
      },
      "source": [
        "<a href=\"https://colab.research.google.com/github/Jing-LI11/Python_class/blob/main/Untitled0.ipynb\" target=\"_parent\"><img src=\"https://colab.research.google.com/assets/colab-badge.svg\" alt=\"Open In Colab\"/></a>"
      ]
    },
    {
      "cell_type": "markdown",
      "source": [
        "#Basis python programming\n",
        "####Demonstrate the use of variables, lists, dictionaries, loops, and conditional statements.\n",
        "####Write at least one reusable function that performs a task relevant to your analysis."
      ],
      "metadata": {
        "id": "9n2JuNP3znhH"
      }
    },
    {
      "cell_type": "markdown",
      "source": [
        "#import dataset"
      ],
      "metadata": {
        "id": "ja6_FXuuSVen"
      }
    },
    {
      "cell_type": "markdown",
      "source": [
        "##find dataset from google drive"
      ],
      "metadata": {
        "id": "-byZgsLtSmWj"
      }
    },
    {
      "cell_type": "code",
      "source": [
        "import pandas as pd\n",
        "!pip list\n",
        "\n",
        "try:\n",
        "  import janitor\n",
        "except:\n",
        "  print(\"Module is not preinstalled!Installing now...\")\n",
        "  !pip install pyjanitor --quiet\n",
        "\n",
        "import janitor\n",
        "from google.colab import drive\n",
        "drive.mount('/content/drive')\n",
        "import os\n",
        "print(os.listdir('/content/drive/My Drive'))"
      ],
      "metadata": {
        "id": "vQ0uFjDE2Si3"
      },
      "execution_count": null,
      "outputs": []
    },
    {
      "cell_type": "markdown",
      "source": [
        "##import and check dataset"
      ],
      "metadata": {
        "id": "sJyE1v8ySeD0"
      }
    },
    {
      "cell_type": "code",
      "source": [
        "feature = pd.read_csv('/content/drive/My Drive/Features.csv')\n",
        "feature.head()\n",
        "sales = pd.read_csv('/content/drive/My Drive/sales.csv')\n",
        "sales.head()\n",
        "# 检查unique data\n",
        "unique_features = feature[[]].drop_duplicates().shape[0]\n",
        "print(f\"unique data in Features are {unique_features} rows\")\n",
        "unique_sales = sales[[]].drop_duplicates().shape[0]\n",
        "print(f\"unique data in Sales are {unique_sales} rows\")\n",
        "# check one to one data relation\n",
        "sales_agg = sales.groupby(['Store', 'Date'], as_index=False)['Weekly_Sales'].sum()\n",
        "print(sales_agg.head())\n",
        "#left join data\n",
        "feature = pd.merge(feature, sales_agg, on=['Store', 'Date'], how='left')\n",
        "print(feature.head())\n",
        "# 检查合并结果的行数\n",
        "print(f\"left-join data has：{feature.shape[0]} rows\")\n",
        "\n",
        "feature.to_csv('/content/drive/My Drive/featuresales.csv', index=False)"
      ],
      "metadata": {
        "colab": {
          "base_uri": "https://localhost:8080/"
        },
        "id": "ShHIq5Im4Rib",
        "outputId": "b8a84ef8-7d85-460d-ed0e-de1678a5b83e"
      },
      "execution_count": 58,
      "outputs": [
        {
          "output_type": "stream",
          "name": "stderr",
          "text": [
            "/usr/local/lib/python3.11/dist-packages/ipykernel/ipkernel.py:283: DeprecationWarning: `should_run_async` will not call `transform_cell` automatically in the future. Please pass the result to `transformed_cell` argument and any exception that happen during thetransform in `preprocessing_exc_tuple` in IPython 7.17 and above.\n",
            "  and should_run_async(code)\n"
          ]
        },
        {
          "output_type": "stream",
          "name": "stdout",
          "text": [
            "Features 表格中唯一的 Store-Date 组合有 8190 个\n",
            "Sales 表格中唯一的 Store-Date 组合有 6435 个\n",
            "<class 'pandas.core.frame.DataFrame'>\n",
            "RangeIndex: 423325 entries, 0 to 423324\n",
            "Data columns (total 13 columns):\n",
            " #   Column        Non-Null Count   Dtype  \n",
            "---  ------        --------------   -----  \n",
            " 0   Store         423325 non-null  int64  \n",
            " 1   Date          423325 non-null  object \n",
            " 2   Temperature   423325 non-null  float64\n",
            " 3   Fuel_Price    423325 non-null  float64\n",
            " 4   MarkDown1     152433 non-null  float64\n",
            " 5   MarkDown2     112532 non-null  float64\n",
            " 6   MarkDown3     138658 non-null  float64\n",
            " 7   MarkDown4     136466 non-null  float64\n",
            " 8   MarkDown5     153187 non-null  float64\n",
            " 9   CPI           422740 non-null  float64\n",
            " 10  Unemployment  422740 non-null  float64\n",
            " 11  IsHoliday     423325 non-null  bool   \n",
            " 12  Weekly_Sales  421570 non-null  float64\n",
            "dtypes: bool(1), float64(10), int64(1), object(1)\n",
            "memory usage: 39.2+ MB\n"
          ]
        }
      ]
    },
    {
      "cell_type": "markdown",
      "source": [
        "##Demonstrate the use of variables, lists, dictionaries, loops, and conditional statements.\n",
        "##Write at least one reusable function that performs a task relevant to your analysis."
      ],
      "metadata": {
        "id": "4_eUrGkO3G0M"
      }
    },
    {
      "cell_type": "markdown",
      "source": [
        "###variables"
      ],
      "metadata": {
        "id": "PAHrpHdC-hI5"
      }
    },
    {
      "cell_type": "code",
      "source": [
        "total_rows = feature.shape[0]\n",
        "total_columns = feature.shape[1]\n",
        "column_names = feature.columns.tolist()\n",
        "print(f\"dataset {total_rows} rows {total_columns} columns\")\n",
        "print(f\"column name as below：{column_names}\")"
      ],
      "metadata": {
        "colab": {
          "base_uri": "https://localhost:8080/"
        },
        "id": "ArR_0hJc3U9b",
        "outputId": "f8520d4b-331f-45fc-9857-0e1c2d618131"
      },
      "execution_count": 41,
      "outputs": [
        {
          "output_type": "stream",
          "name": "stdout",
          "text": [
            "dataset 8190 rows 12 columns\n",
            "column name as below：['Store', 'Date', 'Temperature', 'Fuel_Price', 'MarkDown1', 'MarkDown2', 'MarkDown3', 'MarkDown4', 'MarkDown5', 'CPI', 'Unemployment', 'IsHoliday']\n",
            "all MarkDown list：['MarkDown1', 'MarkDown2', 'MarkDown3', 'MarkDown4', 'MarkDown5']\n"
          ]
        },
        {
          "output_type": "stream",
          "name": "stderr",
          "text": [
            "/usr/local/lib/python3.11/dist-packages/ipykernel/ipkernel.py:283: DeprecationWarning: `should_run_async` will not call `transform_cell` automatically in the future. Please pass the result to `transformed_cell` argument and any exception that happen during thetransform in `preprocessing_exc_tuple` in IPython 7.17 and above.\n",
            "  and should_run_async(code)\n"
          ]
        }
      ]
    },
    {
      "cell_type": "markdown",
      "source": [
        "###lists"
      ],
      "metadata": {
        "id": "3JGYJRlI-jjl"
      }
    },
    {
      "cell_type": "code",
      "source": [
        "markdown_columns = ['MarkDown1', 'MarkDown2', 'MarkDown3', 'MarkDown4', 'MarkDown5']\n",
        "print(f\"all MarkDown list：{markdown_columns}\")\n",
        "\n",
        "list=(1,2,3,4,2)\n",
        "print(list[0:4])\n",
        "ListUnique=set(list)\n",
        "len(ListUnique)\n",
        "ListUnique.sort()\n",
        "matrix=[list,ListUnique]"
      ],
      "metadata": {
        "id": "twNbGwHy-vk3"
      },
      "execution_count": null,
      "outputs": []
    },
    {
      "cell_type": "markdown",
      "source": [
        "###dictionaries"
      ],
      "metadata": {
        "id": "t7KkIvaK-ku0"
      }
    },
    {
      "cell_type": "code",
      "source": [
        "fill_strategies = {\n",
        "    'CPI': 'interpolate',\n",
        "    'Unemployment': 'interpolate',\n",
        "    'MarkDown1': 0,\n",
        "    'MarkDown2': 0,\n",
        "    'MarkDown3': 0,\n",
        "    'MarkDown4': 0,\n",
        "    'MarkDown5': 0\n",
        "}\n",
        "print(\"\\nfill strategy: \", fill_strategies)"
      ],
      "metadata": {
        "colab": {
          "base_uri": "https://localhost:8080/"
        },
        "id": "QTc5u1-v_xW3",
        "outputId": "26fa6eca-76bd-468e-f79b-fa249981add6"
      },
      "execution_count": 43,
      "outputs": [
        {
          "output_type": "stream",
          "name": "stdout",
          "text": [
            "\n",
            "fill strategy:  {'CPI': 'interpolate', 'Unemployment': 'interpolate', 'MarkDown1': 0, 'MarkDown2': 0, 'MarkDown3': 0, 'MarkDown4': 0, 'MarkDown5': 0}\n"
          ]
        },
        {
          "output_type": "stream",
          "name": "stderr",
          "text": [
            "/usr/local/lib/python3.11/dist-packages/ipykernel/ipkernel.py:283: DeprecationWarning: `should_run_async` will not call `transform_cell` automatically in the future. Please pass the result to `transformed_cell` argument and any exception that happen during thetransform in `preprocessing_exc_tuple` in IPython 7.17 and above.\n",
            "  and should_run_async(code)\n"
          ]
        }
      ]
    },
    {
      "cell_type": "markdown",
      "source": [
        "###loops"
      ],
      "metadata": {
        "id": "3GiRhtGp-maI"
      }
    },
    {
      "cell_type": "code",
      "source": [
        "for column in markdown_columns:\n",
        "    feature[column].fillna(0, inplace=True)\n",
        "    print(f\"missing values in {column} were filled by 0。\")\n",
        "\n",
        "for column in ['CPI', 'Unemployment']:\n",
        "    feature[column] = feature[column].interpolate()\n",
        "    print(f\"missing values in {column} were filled by linear regression method\")"
      ],
      "metadata": {
        "colab": {
          "base_uri": "https://localhost:8080/"
        },
        "id": "FgO59wdkBkLe",
        "outputId": "adde8bd1-eeaa-47b6-8c33-c13c7ce6cba8"
      },
      "execution_count": 44,
      "outputs": [
        {
          "output_type": "stream",
          "name": "stdout",
          "text": [
            "missing values in MarkDown1 were filled by 0。\n",
            "missing values in MarkDown2 were filled by 0。\n",
            "missing values in MarkDown3 were filled by 0。\n",
            "missing values in MarkDown4 were filled by 0。\n",
            "missing values in MarkDown5 were filled by 0。\n",
            "missing values in CPI were filled by linear regression method\n",
            "missing values in Unemployment were filled by linear regression method\n"
          ]
        },
        {
          "output_type": "stream",
          "name": "stderr",
          "text": [
            "/usr/local/lib/python3.11/dist-packages/ipykernel/ipkernel.py:283: DeprecationWarning: `should_run_async` will not call `transform_cell` automatically in the future. Please pass the result to `transformed_cell` argument and any exception that happen during thetransform in `preprocessing_exc_tuple` in IPython 7.17 and above.\n",
            "  and should_run_async(code)\n",
            "<ipython-input-44-34fb07ce53b9>:2: FutureWarning: A value is trying to be set on a copy of a DataFrame or Series through chained assignment using an inplace method.\n",
            "The behavior will change in pandas 3.0. This inplace method will never work because the intermediate object on which we are setting values always behaves as a copy.\n",
            "\n",
            "For example, when doing 'df[col].method(value, inplace=True)', try using 'df.method({col: value}, inplace=True)' or df[col] = df[col].method(value) instead, to perform the operation inplace on the original object.\n",
            "\n",
            "\n",
            "  feature[column].fillna(0, inplace=True)\n"
          ]
        }
      ]
    },
    {
      "cell_type": "markdown",
      "source": [
        "###condition statements"
      ],
      "metadata": {
        "id": "xfRHPbOG-nd2"
      }
    },
    {
      "cell_type": "code",
      "source": [
        "if feature.isnull().sum().sum() > 0:\n",
        "    print(\"数据集中仍有缺失值需要处理！\")\n",
        "else:\n",
        "    print(\"数据集中不存在缺失值！\")\n",
        "\n",
        "# 筛选出销售额大于 10000 的行\n",
        "high_sales = feature[feature['Weekly_Sales'] > 10000]\n",
        "print(f\"销售额大于 10000 的记录共有 {high_sales.shape[0]} 行。\")"
      ],
      "metadata": {
        "id": "_R5oXqP3B8iF"
      },
      "execution_count": null,
      "outputs": []
    },
    {
      "cell_type": "markdown",
      "source": [
        "##handling missing values"
      ],
      "metadata": {
        "id": "UimlMaqQSyHW"
      }
    },
    {
      "cell_type": "code",
      "source": [
        "print(feature.isnull().sum())\n",
        "featurem = feature.fillna({'MarkDown1': 0,'MarkDown2':0,'MarkDown3':0,'MarkDown4':0,'MarkDown5':0})\n",
        "print(featurem.isnull().sum())\n",
        "\n"
      ],
      "metadata": {
        "colab": {
          "base_uri": "https://localhost:8080/"
        },
        "id": "KPpb3NsE6mgx",
        "outputId": "d118d495-f828-4296-9e27-50801f87a94d"
      },
      "execution_count": 33,
      "outputs": [
        {
          "output_type": "stream",
          "name": "stdout",
          "text": [
            "Store              0\n",
            "Date               0\n",
            "Temperature        0\n",
            "Fuel_Price         0\n",
            "MarkDown1       4158\n",
            "MarkDown2       5269\n",
            "MarkDown3       4577\n",
            "MarkDown4       4726\n",
            "MarkDown5       4140\n",
            "CPI              585\n",
            "Unemployment     585\n",
            "IsHoliday          0\n",
            "dtype: int64\n",
            "Store             0\n",
            "Date              0\n",
            "Temperature       0\n",
            "Fuel_Price        0\n",
            "MarkDown1         0\n",
            "MarkDown2         0\n",
            "MarkDown3         0\n",
            "MarkDown4         0\n",
            "MarkDown5         0\n",
            "CPI             585\n",
            "Unemployment    585\n",
            "IsHoliday         0\n",
            "dtype: int64\n"
          ]
        },
        {
          "output_type": "stream",
          "name": "stderr",
          "text": [
            "/usr/local/lib/python3.11/dist-packages/ipykernel/ipkernel.py:283: DeprecationWarning: `should_run_async` will not call `transform_cell` automatically in the future. Please pass the result to `transformed_cell` argument and any exception that happen during thetransform in `preprocessing_exc_tuple` in IPython 7.17 and above.\n",
            "  and should_run_async(code)\n"
          ]
        }
      ]
    },
    {
      "cell_type": "markdown",
      "source": [
        "##transform data format (object -> date)"
      ],
      "metadata": {
        "id": "Rkwe557hTKq2"
      }
    },
    {
      "cell_type": "code",
      "source": [
        "featurem['Date'] = pd.to_datetime(featurem['Date'], format='%d/%m/%Y')\n",
        "featurem.info()"
      ],
      "metadata": {
        "colab": {
          "base_uri": "https://localhost:8080/"
        },
        "id": "DTWhHICsTyfB",
        "outputId": "7c8b4c91-eb93-42ed-cd70-50c715c4e81c"
      },
      "execution_count": 34,
      "outputs": [
        {
          "output_type": "stream",
          "name": "stdout",
          "text": [
            "<class 'pandas.core.frame.DataFrame'>\n",
            "RangeIndex: 8190 entries, 0 to 8189\n",
            "Data columns (total 12 columns):\n",
            " #   Column        Non-Null Count  Dtype         \n",
            "---  ------        --------------  -----         \n",
            " 0   Store         8190 non-null   int64         \n",
            " 1   Date          8190 non-null   datetime64[ns]\n",
            " 2   Temperature   8190 non-null   float64       \n",
            " 3   Fuel_Price    8190 non-null   float64       \n",
            " 4   MarkDown1     8190 non-null   float64       \n",
            " 5   MarkDown2     8190 non-null   float64       \n",
            " 6   MarkDown3     8190 non-null   float64       \n",
            " 7   MarkDown4     8190 non-null   float64       \n",
            " 8   MarkDown5     8190 non-null   float64       \n",
            " 9   CPI           7605 non-null   float64       \n",
            " 10  Unemployment  7605 non-null   float64       \n",
            " 11  IsHoliday     8190 non-null   bool          \n",
            "dtypes: bool(1), datetime64[ns](1), float64(9), int64(1)\n",
            "memory usage: 712.0 KB\n"
          ]
        },
        {
          "output_type": "stream",
          "name": "stderr",
          "text": [
            "/usr/local/lib/python3.11/dist-packages/ipykernel/ipkernel.py:283: DeprecationWarning: `should_run_async` will not call `transform_cell` automatically in the future. Please pass the result to `transformed_cell` argument and any exception that happen during thetransform in `preprocessing_exc_tuple` in IPython 7.17 and above.\n",
            "  and should_run_async(code)\n"
          ]
        }
      ]
    },
    {
      "cell_type": "markdown",
      "source": [
        "#rename a column"
      ],
      "metadata": {
        "id": "vN6Q8Q9uBRkI"
      }
    },
    {
      "cell_type": "code",
      "source": [
        "featuremc = featurem.copy()\n",
        "featuremc['CPI'] = featurem['CPI'].rename(\"ConsumerPriceIndex\")"
      ],
      "metadata": {
        "colab": {
          "base_uri": "https://localhost:8080/"
        },
        "id": "2cT4_BR-AlaT",
        "outputId": "e2b15712-d11f-43f8-db28-59794963c976"
      },
      "execution_count": 27,
      "outputs": [
        {
          "output_type": "stream",
          "name": "stderr",
          "text": [
            "/usr/local/lib/python3.11/dist-packages/ipykernel/ipkernel.py:283: DeprecationWarning: `should_run_async` will not call `transform_cell` automatically in the future. Please pass the result to `transformed_cell` argument and any exception that happen during thetransform in `preprocessing_exc_tuple` in IPython 7.17 and above.\n",
            "  and should_run_async(code)\n"
          ]
        }
      ]
    }
  ]
}